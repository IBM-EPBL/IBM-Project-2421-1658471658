{
 "cells": [
  {
   "cell_type": "code",
   "execution_count": 1,
   "id": "f03b57c2",
   "metadata": {},
   "outputs": [],
   "source": [
    "import pandas as pd\n",
    "import numpy as np\n",
    "from sklearn.preprocessing import MinMaxScaler\n",
    "from sklearn.metrics import confusion_matrix,accuracy_score"
   ]
  },
  {
   "cell_type": "code",
   "execution_count": 2,
   "id": "e3eaa847",
   "metadata": {},
   "outputs": [],
   "source": [
    "ds = pd.read_csv(r\"C:\\Users\\sujan\\Downloads\\dataset_website.csv\")"
   ]
  },
  {
   "cell_type": "code",
   "execution_count": 8,
   "id": "376319e9",
   "metadata": {},
   "outputs": [],
   "source": [
    "from sklearn.model_selection import train_test_split\n",
    "x_train,x_test,y_train,y_test=train_test_split(x,y,test_size=0.2,random_state=0)"
   ]
  },
  {
   "cell_type": "code",
   "execution_count": 9,
   "id": "ec0bbcd3",
   "metadata": {},
   "outputs": [
    {
     "data": {
      "text/plain": [
       "array([[ 1, -1,  1, ...,  1,  1,  1],\n",
       "       [ 1,  1,  1, ...,  1,  0,  1],\n",
       "       [-1, -1,  1, ...,  1,  1, -1],\n",
       "       ...,\n",
       "       [-1,  1,  1, ...,  1,  1,  1],\n",
       "       [-1, -1,  1, ...,  1,  1,  1],\n",
       "       [ 1, -1,  1, ...,  1,  1,  1]], dtype=int64)"
      ]
     },
     "execution_count": 9,
     "metadata": {},
     "output_type": "execute_result"
    }
   ],
   "source": [
    "x_train\n"
   ]
  },
  {
   "cell_type": "code",
   "execution_count": 10,
   "id": "d7c37b75",
   "metadata": {},
   "outputs": [
    {
     "data": {
      "text/plain": [
       "array([[ 1, -1,  1, ...,  1,  0,  1],\n",
       "       [ 1, -1,  1, ...,  1,  0,  1],\n",
       "       [ 1, -1,  1, ...,  1,  1,  1],\n",
       "       ...,\n",
       "       [-1, -1,  1, ...,  1,  1,  1],\n",
       "       [ 1, -1,  1, ...,  1,  0,  1],\n",
       "       [ 1, -1,  1, ...,  1,  1,  1]], dtype=int64)"
      ]
     },
     "execution_count": 10,
     "metadata": {},
     "output_type": "execute_result"
    }
   ],
   "source": [
    "x_test"
   ]
  },
  {
   "cell_type": "code",
   "execution_count": 11,
   "id": "2b2eef74",
   "metadata": {},
   "outputs": [
    {
     "data": {
      "text/plain": [
       "array([ 1, -1, -1, ...,  1, -1, -1], dtype=int64)"
      ]
     },
     "execution_count": 11,
     "metadata": {},
     "output_type": "execute_result"
    }
   ],
   "source": [
    "y_train\n"
   ]
  },
  {
   "cell_type": "code",
   "execution_count": 12,
   "id": "5730bc88",
   "metadata": {},
   "outputs": [
    {
     "data": {
      "text/plain": [
       "array([-1, -1, -1, ...,  1,  1,  1], dtype=int64)"
      ]
     },
     "execution_count": 12,
     "metadata": {},
     "output_type": "execute_result"
    }
   ],
   "source": [
    "y_test"
   ]
  },
  {
   "cell_type": "code",
   "execution_count": 13,
   "id": "ccaf973e",
   "metadata": {},
   "outputs": [
    {
     "data": {
      "text/plain": [
       "LogisticRegression()"
      ]
     },
     "execution_count": 13,
     "metadata": {},
     "output_type": "execute_result"
    }
   ],
   "source": [
    "from sklearn.linear_model import LogisticRegression\n",
    "lr=LogisticRegression()\n",
    "lr.fit(x_train,y_train)"
   ]
  },
  {
   "cell_type": "code",
   "execution_count": 14,
   "id": "5653e701",
   "metadata": {},
   "outputs": [
    {
     "data": {
      "text/plain": [
       "0.9167797376752601"
      ]
     },
     "execution_count": 14,
     "metadata": {},
     "output_type": "execute_result"
    }
   ],
   "source": [
    "y_pred1=lr.predict(x_test)\n",
    "from sklearn.metrics import accuracy_score\n",
    "log_reg=accuracy_score(y_test,y_pred1)\n",
    "log_reg"
   ]
  },
  {
   "cell_type": "code",
   "execution_count": 17,
   "id": "cfa3f19f",
   "metadata": {},
   "outputs": [],
   "source": [
    "import pickle\n",
    "pickle.dump(lr,open('Phishing_Website.pkl','wb'))"
   ]
  },
  {
   "cell_type": "code",
   "execution_count": null,
   "id": "f90aef02",
   "metadata": {},
   "outputs": [],
   "source": []
  }
 ],
 "metadata": {
  "kernelspec": {
   "display_name": "Python 3 (ipykernel)",
   "language": "python",
   "name": "python3"
  },
  "language_info": {
   "codemirror_mode": {
    "name": "ipython",
    "version": 3
   },
   "file_extension": ".py",
   "mimetype": "text/x-python",
   "name": "python",
   "nbconvert_exporter": "python",
   "pygments_lexer": "ipython3",
   "version": "3.9.12"
  }
 },
 "nbformat": 4,
 "nbformat_minor": 5
}
